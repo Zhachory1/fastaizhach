{
 "cells": [
  {
   "cell_type": "code",
   "execution_count": 15,
   "metadata": {
    "scrolled": true
   },
   "outputs": [],
   "source": [
    "from __future__ import division, print_function\n",
    "import glob, os\n",
    "\n",
    "import utils; reload(utils)\n",
    "from utils import plots\n",
    "\n",
    "import tensorflow as tf\n",
    "import numpy as np\n",
    "from matplotlib import pyplot as plt\n",
    "import scipy\n",
    "\n",
    "%matplotlib inline\n",
    "np.set_printoptions(precision=4, linewidth=100)\n",
    "\n",
    "path = \"/usr/local/google/home/zhach/datasets/catsvsdogs/\"\n",
    "\n",
    "cwd = os.getcwd()"
   ]
  },
  {
   "cell_type": "markdown",
   "metadata": {},
   "source": [
    "Now that I have imported all the necessary imports and have the test and train file names, lets get to learning."
   ]
  },
  {
   "cell_type": "code",
   "execution_count": 16,
   "metadata": {
    "collapsed": true
   },
   "outputs": [],
   "source": [
    "# If you think the computer can handle it, you can change it to 64\n",
    "batch_size=64\n",
    "\n",
    "# Also import the pretrained classes\n",
    "import vgg16; reload(vgg16)\n",
    "from vgg16 import Vgg16"
   ]
  },
  {
   "cell_type": "code",
   "execution_count": null,
   "metadata": {},
   "outputs": [
    {
     "name": "stdout",
     "output_type": "stream",
     "text": [
      "Found 17778 images belonging to 2 classes.\n",
      "Found 7222 images belonging to 2 classes.\n",
      "Epoch 1/1\n",
      " 18/277 [>.............................] - ETA: 9208s - loss: 0.8194 - acc: 0.7387"
     ]
    }
   ],
   "source": [
    "# Let's instantiate the class and get the batches\n",
    "vgg = Vgg16()\n",
    "train_b = vgg.get_batches(path+'train', batch_size=batch_size)\n",
    "valid_b = vgg.get_batches(path+'valid', batch_size=batch_size*2)\n",
    "\n",
    "# Alias some class names\n",
    "train_b.nb_class = train_b.num_class\n",
    "train_b.nb_sample = train_b.samples\n",
    "valid_b.nb_class = valid_b.num_class\n",
    "valid_b.nb_sample = valid_b.samples\n",
    "\n",
    "#  Lets finetune the batches\n",
    "vgg.finetune(train_b)\n",
    "vgg.fit(train_b, valid_b, nb_epoch=1)"
   ]
  },
  {
   "cell_type": "code",
   "execution_count": null,
   "metadata": {
    "collapsed": true
   },
   "outputs": [],
   "source": [
    "vgg.model.save_weights(path+\"results/ft1.h5\")"
   ]
  },
  {
   "cell_type": "code",
   "execution_count": null,
   "metadata": {
    "collapsed": true
   },
   "outputs": [],
   "source": [
    "vgg.model.load_weights(path+\"results/ft1.h5\")"
   ]
  },
  {
   "cell_type": "code",
   "execution_count": null,
   "metadata": {
    "collapsed": true
   },
   "outputs": [],
   "source": [
    "val_batches,probs = vgg.test(path+'valid', batch_size=batch_size)"
   ]
  },
  {
   "cell_type": "code",
   "execution_count": null,
   "metadata": {
    "collapsed": true
   },
   "outputs": [],
   "source": []
  },
  {
   "cell_type": "code",
   "execution_count": null,
   "metadata": {
    "collapsed": true
   },
   "outputs": [],
   "source": []
  },
  {
   "cell_type": "code",
   "execution_count": null,
   "metadata": {
    "collapsed": true
   },
   "outputs": [],
   "source": []
  }
 ],
 "metadata": {
  "kernelspec": {
   "display_name": "Python 2",
   "language": "python",
   "name": "python2"
  },
  "language_info": {
   "codemirror_mode": {
    "name": "ipython",
    "version": 2
   },
   "file_extension": ".py",
   "mimetype": "text/x-python",
   "name": "python",
   "nbconvert_exporter": "python",
   "pygments_lexer": "ipython2",
   "version": "2.7.14"
  }
 },
 "nbformat": 4,
 "nbformat_minor": 2
}
